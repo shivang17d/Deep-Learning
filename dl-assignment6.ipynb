{
 "cells": [
  {
   "cell_type": "code",
   "execution_count": 1,
   "metadata": {
    "execution": {
     "iopub.execute_input": "2023-10-25T17:04:30.391034Z",
     "iopub.status.busy": "2023-10-25T17:04:30.390667Z",
     "iopub.status.idle": "2023-10-25T17:04:30.396441Z",
     "shell.execute_reply": "2023-10-25T17:04:30.395370Z",
     "shell.execute_reply.started": "2023-10-25T17:04:30.391005Z"
    }
   },
   "outputs": [],
   "source": [
    "import tensorflow as tf\n",
    "from tensorflow.keras.preprocessing.image import ImageDataGenerator\n",
    "from tensorflow.keras.layers import Dense, GlobalAveragePooling2D\n",
    "from tensorflow.keras.models import Model\n",
    "from tensorflow.keras.optimizers import Adam\n",
    "from sklearn.model_selection import train_test_split"
   ]
  },
  {
   "cell_type": "code",
   "execution_count": 2,
   "metadata": {
    "execution": {
     "iopub.execute_input": "2023-10-25T17:04:30.398199Z",
     "iopub.status.busy": "2023-10-25T17:04:30.397899Z",
     "iopub.status.idle": "2023-10-25T17:04:30.405901Z",
     "shell.execute_reply": "2023-10-25T17:04:30.405090Z",
     "shell.execute_reply.started": "2023-10-25T17:04:30.398175Z"
    }
   },
   "outputs": [],
   "source": [
    "data_dir = 'caltech101/101_ObjectCategories'"
   ]
  },
  {
   "cell_type": "code",
   "execution_count": 3,
   "metadata": {
    "execution": {
     "iopub.execute_input": "2023-10-25T17:04:30.410458Z",
     "iopub.status.busy": "2023-10-25T17:04:30.410139Z",
     "iopub.status.idle": "2023-10-25T17:04:30.415308Z",
     "shell.execute_reply": "2023-10-25T17:04:30.414535Z",
     "shell.execute_reply.started": "2023-10-25T17:04:30.410428Z"
    }
   },
   "outputs": [],
   "source": [
    "image_size = (224, 224)\n",
    "batch_size = 32"
   ]
  },
  {
   "cell_type": "code",
   "execution_count": 4,
   "metadata": {
    "execution": {
     "iopub.execute_input": "2023-10-25T17:04:30.420536Z",
     "iopub.status.busy": "2023-10-25T17:04:30.420242Z",
     "iopub.status.idle": "2023-10-25T17:04:30.773991Z",
     "shell.execute_reply": "2023-10-25T17:04:30.773267Z",
     "shell.execute_reply.started": "2023-10-25T17:04:30.420507Z"
    }
   },
   "outputs": [],
   "source": [
    "train_datagen = ImageDataGenerator(\n",
    "    rescale=1.0 / 255,\n",
    "    shear_range=0.2,\n",
    "    zoom_range=0.2,\n",
    "    horizontal_flip=True,\n",
    "    validation_split=0.15\n",
    ")\n",
    "\n",
    "train_generator = train_datagen.flow_from_directory(\n",
    "    data_dir,\n",
    "    target_size=image_size,\n",
    "    batch_size=batch_size,\n",
    "    class_mode='categorical',\n",
    "    subset='training'  \n",
    ")"
   ]
  },
  {
   "cell_type": "code",
   "execution_count": null,
   "metadata": {
    "execution": {
     "iopub.execute_input": "2023-10-25T17:04:30.775780Z",
     "iopub.status.busy": "2023-10-25T17:04:30.775500Z",
     "iopub.status.idle": "2023-10-25T17:04:30.918510Z",
     "shell.execute_reply": "2023-10-25T17:04:30.917817Z",
     "shell.execute_reply.started": "2023-10-25T17:04:30.775756Z"
    }
   },
   "outputs": [],
   "source": [
    "validation_generator = train_datagen.flow_from_directory(\n",
    "    data_dir,\n",
    "    target_size=image_size,\n",
    "    batch_size=batch_size,\n",
    "    class_mode='categorical',\n",
    "    subset='validation'\n",
    ")"
   ]
  },
  {
   "cell_type": "code",
   "execution_count": null,
   "metadata": {
    "execution": {
     "iopub.execute_input": "2023-10-25T17:04:30.919629Z",
     "iopub.status.busy": "2023-10-25T17:04:30.919364Z",
     "iopub.status.idle": "2023-10-25T17:04:31.246193Z",
     "shell.execute_reply": "2023-10-25T17:04:31.245437Z",
     "shell.execute_reply.started": "2023-10-25T17:04:30.919607Z"
    }
   },
   "outputs": [],
   "source": [
    "from tensorflow.keras.regularizers import l2\n",
    "from tensorflow.keras.callbacks import ReduceLROnPlateau, EarlyStopping\n",
    "base_model = tf.keras.applications.vgg16.VGG16(weights='imagenet', include_top=False)\n",
    "\n",
    "\n",
    "x = base_model.output\n",
    "x = GlobalAveragePooling2D()(x)\n",
    "x = Dense(1024, activation='relu', kernel_regularizer=l2(0.001))(x)  \n",
    "predictions = Dense(102, activation='softmax')(x)"
   ]
  },
  {
   "cell_type": "code",
   "execution_count": null,
   "metadata": {
    "execution": {
     "iopub.execute_input": "2023-10-25T17:04:31.248380Z",
     "iopub.status.busy": "2023-10-25T17:04:31.248095Z",
     "iopub.status.idle": "2023-10-25T17:57:25.673740Z",
     "shell.execute_reply": "2023-10-25T17:57:25.672898Z",
     "shell.execute_reply.started": "2023-10-25T17:04:31.248356Z"
    }
   },
   "outputs": [],
   "source": [
    "model = tf.keras.Model(inputs=base_model.input, outputs=predictions)\n",
    "model.compile(optimizer=Adam(learning_rate=0.00001), loss='categorical_crossentropy', metrics=['accuracy'])\n",
    "reduce_lr = ReduceLROnPlateau(monitor='val_loss', factor=0.2, patience=3, min_lr=1e-6)\n",
    "early_stopping = EarlyStopping(monitor='val_loss', patience=5, restore_best_weights=True)\n",
    "epochs = 25\n",
    "h=model.fit(\n",
    "    train_generator,\n",
    "    steps_per_epoch=train_generator.samples // batch_size,\n",
    "    validation_data=validation_generator,\n",
    "    validation_steps=validation_generator.samples // batch_size,\n",
    "    epochs=epochs,\n",
    "    callbacks=[reduce_lr, early_stopping]  \n",
    ")"
   ]
  },
  {
   "cell_type": "code",
   "execution_count": null,
   "metadata": {
    "execution": {
     "iopub.execute_input": "2023-10-25T18:09:18.881859Z",
     "iopub.status.busy": "2023-10-25T18:09:18.881515Z",
     "iopub.status.idle": "2023-10-25T18:09:18.890402Z",
     "shell.execute_reply": "2023-10-25T18:09:18.889563Z",
     "shell.execute_reply.started": "2023-10-25T18:09:18.881833Z"
    }
   },
   "outputs": [],
   "source": [
    "\n",
    "from tensorflow.keras.preprocessing.image import load_img\n",
    "image = load_img('caltech101/101_ObjectCategories/BACKGROUND_Google/image_0016.jpg', target_size=(224, 224)) "
   ]
  },
  {
   "cell_type": "code",
   "execution_count": null,
   "metadata": {
    "execution": {
     "iopub.execute_input": "2023-10-25T18:09:19.682074Z",
     "iopub.status.busy": "2023-10-25T18:09:19.681218Z",
     "iopub.status.idle": "2023-10-25T18:09:19.686569Z",
     "shell.execute_reply": "2023-10-25T18:09:19.685555Z",
     "shell.execute_reply.started": "2023-10-25T18:09:19.682040Z"
    }
   },
   "outputs": [],
   "source": [
    "from tensorflow.keras.preprocessing.image import img_to_array\n",
    "image = img_to_array(image)"
   ]
  },
  {
   "cell_type": "code",
   "execution_count": null,
   "metadata": {
    "execution": {
     "iopub.execute_input": "2023-10-25T18:09:20.142406Z",
     "iopub.status.busy": "2023-10-25T18:09:20.141794Z",
     "iopub.status.idle": "2023-10-25T18:09:20.147294Z",
     "shell.execute_reply": "2023-10-25T18:09:20.146375Z",
     "shell.execute_reply.started": "2023-10-25T18:09:20.142356Z"
    }
   },
   "outputs": [],
   "source": [
    "image = image.reshape((1, image.shape[0], image.shape[1], image.shape[2]))"
   ]
  },
  {
   "cell_type": "code",
   "execution_count": null,
   "metadata": {
    "execution": {
     "iopub.execute_input": "2023-10-25T18:09:20.736797Z",
     "iopub.status.busy": "2023-10-25T18:09:20.736436Z",
     "iopub.status.idle": "2023-10-25T18:09:20.741767Z",
     "shell.execute_reply": "2023-10-25T18:09:20.740760Z",
     "shell.execute_reply.started": "2023-10-25T18:09:20.736770Z"
    }
   },
   "outputs": [],
   "source": [
    "from tensorflow.keras.applications.vgg16 import preprocess_input\n",
    "image = preprocess_input(image)"
   ]
  },
  {
   "cell_type": "code",
   "execution_count": null,
   "metadata": {
    "execution": {
     "iopub.execute_input": "2023-10-25T18:09:21.334129Z",
     "iopub.status.busy": "2023-10-25T18:09:21.333271Z",
     "iopub.status.idle": "2023-10-25T18:09:21.399878Z",
     "shell.execute_reply": "2023-10-25T18:09:21.398977Z",
     "shell.execute_reply.started": "2023-10-25T18:09:21.334098Z"
    }
   },
   "outputs": [],
   "source": [
    "import numpy as np\n",
    "pred = model.predict(image) \n",
    "predicted_class_index = np.argmax(pred,axis=-1)\n",
    "class_labels = list(train_generator.class_indices.keys())\n",
    "predicted_class_label = class_labels[predicted_class_index[0]]\n",
    "\n",
    "print(predicted_class_label)"
   ]
  },
  {
   "cell_type": "code",
   "execution_count": null,
   "metadata": {
    "execution": {
     "iopub.execute_input": "2023-10-25T18:09:22.027211Z",
     "iopub.status.busy": "2023-10-25T18:09:22.026845Z",
     "iopub.status.idle": "2023-10-25T18:09:22.033324Z",
     "shell.execute_reply": "2023-10-25T18:09:22.032329Z",
     "shell.execute_reply.started": "2023-10-25T18:09:22.027180Z"
    }
   },
   "outputs": [],
   "source": [
    "print(pred)"
   ]
  },
  {
   "cell_type": "code",
   "execution_count": null,
   "metadata": {
    "execution": {
     "iopub.execute_input": "2023-10-25T17:57:50.680719Z",
     "iopub.status.busy": "2023-10-25T17:57:50.680055Z",
     "iopub.status.idle": "2023-10-25T17:57:50.685435Z",
     "shell.execute_reply": "2023-10-25T17:57:50.684481Z",
     "shell.execute_reply.started": "2023-10-25T17:57:50.680686Z"
    }
   },
   "outputs": [],
   "source": [
    "print(list(train_generator.class_indices.keys()))"
   ]
  },
  {
   "cell_type": "code",
   "execution_count": null,
   "metadata": {
    "execution": {
     "iopub.execute_input": "2023-10-25T17:57:54.041077Z",
     "iopub.status.busy": "2023-10-25T17:57:54.040450Z",
     "iopub.status.idle": "2023-10-25T17:57:54.045123Z",
     "shell.execute_reply": "2023-10-25T17:57:54.044205Z",
     "shell.execute_reply.started": "2023-10-25T17:57:54.041047Z"
    }
   },
   "outputs": [],
   "source": [
    "import matplotlib.pyplot as plt"
   ]
  },
  {
   "cell_type": "code",
   "execution_count": null,
   "metadata": {
    "execution": {
     "iopub.execute_input": "2023-10-25T17:57:57.004234Z",
     "iopub.status.busy": "2023-10-25T17:57:57.003218Z",
     "iopub.status.idle": "2023-10-25T17:57:57.280825Z",
     "shell.execute_reply": "2023-10-25T17:57:57.279895Z",
     "shell.execute_reply.started": "2023-10-25T17:57:57.004193Z"
    }
   },
   "outputs": [],
   "source": [
    "plt.plot(h.history['accuracy']) #get the accuracy for the training set from the model's history attribute\n",
    "plt.plot(h.history['val_accuracy'])   #get the loss for the training set from the model's history attribute\n",
    "plt.title('Training Loss and Accuracy')\n",
    "plt.ylabel('accuracy')\n",
    "plt.xlabel('epoch')\n",
    "plt.legend(['Train', 'Validation'])"
   ]
  },
  {
   "cell_type": "code",
   "execution_count": null,
   "metadata": {
    "execution": {
     "iopub.execute_input": "2023-10-25T17:58:02.555854Z",
     "iopub.status.busy": "2023-10-25T17:58:02.555201Z",
     "iopub.status.idle": "2023-10-25T17:58:02.884298Z",
     "shell.execute_reply": "2023-10-25T17:58:02.883447Z",
     "shell.execute_reply.started": "2023-10-25T17:58:02.555820Z"
    }
   },
   "outputs": [],
   "source": [
    "plt.plot(h.history['loss']) #get the accuracy for the training set from the model's history attribute\n",
    "plt.plot(h.history['val_loss'])   #get the loss for the training set from the model's history attribute\n",
    "plt.title('Training Loss and Accuracy')\n",
    "plt.ylabel('accuracy')\n",
    "plt.xlabel('epoch')\n",
    "plt.legend(['Train', 'Validation'])"
   ]
  },
  {
   "cell_type": "code",
   "execution_count": null,
   "metadata": {},
   "outputs": [],
   "source": []
  }
 ],
 "metadata": {
  "kernelspec": {
   "display_name": "Python 3 (ipykernel)",
   "language": "python",
   "name": "python3"
  },
  "language_info": {
   "codemirror_mode": {
    "name": "ipython",
    "version": 3
   },
   "file_extension": ".py",
   "mimetype": "text/x-python",
   "name": "python",
   "nbconvert_exporter": "python",
   "pygments_lexer": "ipython3",
   "version": "3.11.2"
  }
 },
 "nbformat": 4,
 "nbformat_minor": 4
}
